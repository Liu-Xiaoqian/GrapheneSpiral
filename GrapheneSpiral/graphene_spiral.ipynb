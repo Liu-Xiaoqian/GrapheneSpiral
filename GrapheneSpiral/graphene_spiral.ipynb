{
 "cells": [
  {
   "cell_type": "code",
   "execution_count": 1,
   "id": "9c0f0c1d-ec13-4992-9e54-45391842dbbd",
   "metadata": {},
   "outputs": [],
   "source": [
    "import numpy as np\n",
    "import scipy as sp\n",
    "from supercell import *\n",
    "from file_io import *"
   ]
  },
  {
   "cell_type": "code",
   "execution_count": 2,
   "id": "6e3af98d-a774-4a24-9a43-5557a89c9f8e",
   "metadata": {},
   "outputs": [],
   "source": [
    "def view2d(xyz,P=False,c=None,title=None,s=None,cmap=None,with_num=False):\n",
    "    import matplotlib.pyplot as plt\n",
    "    if xyz.shape[1] == 2:\n",
    "        plt.scatter(xyz[:,0],xyz[:,1],c=c,s=s,cmap=cmap)\n",
    "    elif xyz.shape[1] == 3:\n",
    "        plt.scatter(xyz[:,0],xyz[:,1],c=c,s=s,cmap=cmap)\n",
    "    else:\n",
    "        raise ValueError\n",
    "\n",
    "    if with_num:\n",
    "        labels = [f'{i+1}' for i in range(xyz.shape[0])]\n",
    "        for i, label in enumerate(labels):\n",
    "            plt.text(xyz[i,0],xyz[i,1],label)\n",
    "\n",
    "    if type(P) == np.ndarray:\n",
    "        a = P[0, :2]; b = P[1, :2]\n",
    "        vertices = np.array([ [0,0], a, a+b, b, [0,0] ])\n",
    "        plt.plot(vertices[:, 0], vertices[:, 1], '-o', color='blue')\n",
    "        plt.fill(vertices[:, 0], vertices[:, 1], alpha=0.05, color='blue')\n",
    "        plt.xlim(0,P[1,1])\n",
    "        plt.ylim(P[0,1],P[0,0])\n",
    "\n",
    "    if type(c) == np.ndarray:\n",
    "        plt.colorbar()\n",
    "    # plt.scatter(0,0,c='black')\n",
    "    plt.title(title)\n",
    "    plt.grid(True)\n",
    "    plt.axis('scaled')\n",
    "    # plt.show()"
   ]
  },
  {
   "cell_type": "code",
   "execution_count": 3,
   "id": "cf06dedd-1864-42ee-a1ca-0d01f487433f",
   "metadata": {
    "ExecuteTime": {
     "end_time": "2024-01-10T08:10:20.436261812Z",
     "start_time": "2024-01-10T08:10:20.403261722Z"
    }
   },
   "outputs": [],
   "source": [
    "def honeycombe_grids(lattice,const=2.46,dim=2,reverse=False,center=0):\n",
    "    n = int(np.max(np.abs(lattice/const)))+1\n",
    "    l = np.linspace(-n+1,n,2*n)\n",
    "\n",
    "    if center:\n",
    "        A = np.meshgrid(l+center//6-1/6*center,l+center//2-1/2*center)\n",
    "    else:\n",
    "        A = np.meshgrid(l,l)\n",
    "\n",
    "    X = np.array([A[0],A[0]-0.5]).flatten()*np.sqrt(3)\n",
    "    Y = np.array([A[1],A[1]-0.5]).flatten()\n",
    "\n",
    "    x = np.array([X+1/np.sqrt(3)*np.cos(i*np.pi/3) for i in range(2)]).flatten()\n",
    "    y = np.array([Y+1/np.sqrt(3)*np.sin(i*np.pi/3) for i in range(2)]).flatten()\n",
    "\n",
    "    if reverse:\n",
    "        x,y = y,x\n",
    "\n",
    "    if dim == 2:\n",
    "        return np.array([x,y],dtype=float)*const\n",
    "    elif dim == 3:\n",
    "        return np.array([x,y,np.ones_like(x)],dtype=float)*const"
   ]
  },
  {
   "cell_type": "code",
   "execution_count": 4,
   "id": "23b4c650-fa9c-40a2-8b10-4a5f65f91bde",
   "metadata": {},
   "outputs": [],
   "source": [
    "def hexagonal_P(crystal=np.array([0,0,0]),hex=np.array([90,90,120]),vacuum_z=False):\n",
    "    alpha,beta,gamma = np.deg2rad(hex)\n",
    "    vector_a = crystal[0]*np.array([1,0,0])\n",
    "    vector_b = crystal[1]*np.array([np.cos(gamma),np.sin(gamma),0])\n",
    "    # vector_c = crystal[2]*np.array([np.cos(beta),(np.cos(alpha)-np.cos(beta)*np.cos(gamma))/np.sin(gamma),(1+2*np.cos(alpha)*np.cos(beta)*np.cos(gamma)-np.cos(alpha)**2-np.cos(beta)**2-np.cos(gamma)**2)**0.5/np.sin(gamma)])\n",
    "    vector_c = crystal[2]*np.array([0,0,1])\n",
    "    P = np.row_stack((vector_a,vector_b,vector_c))\n",
    "    P[2,2] = vacuum_z if vacuum_z else P[2,2]\n",
    "    return P"
   ]
  },
  {
   "cell_type": "code",
   "execution_count": 5,
   "id": "6e2ec778-20ab-401b-9418-1df79637438d",
   "metadata": {},
   "outputs": [],
   "source": [
    "class DoubleSpiral():\n",
    "    def __init__(self, \n",
    "                 bvector=1,\n",
    "                 nvaccum=0,\n",
    "                 nlayers=6,\n",
    "                 stack=1):\n",
    "        \n",
    "        self.bvector = bvector\n",
    "        self.nvaccum = nvaccum\n",
    "        self.nlayers = nlayers\n",
    "        self.stack = stack\n",
    "        \n",
    "    def double_screw(self,N=15,save=False,save_dir='./'):\n",
    "        from supercell import rotate, translate\n",
    "        from numpy.linalg import inv as _inv\n",
    "\n",
    "        def mobius_transfer(z,alpha=0,inverse=False):\n",
    "            alpha = -alpha if inverse else alpha\n",
    "            t_z = z/(1+alpha*z)\n",
    "            return np.where(t_z == 0, 1e-10, t_z)\n",
    "\n",
    "        pbcz = self.nlayers//self.bvector\n",
    "        _d = 3.62 if self.stack == 1 else 3.35\n",
    "        \n",
    "        M = self.nlayers if pbcz else self.nlayers+5\n",
    "        crystal_para = np.array([2.46,2.46,_d])*[N,N,M]\n",
    "        P = hexagonal_P(crystal_para)\n",
    "    \n",
    "        x,y,z = [],[],[]\n",
    "        theta = 2*np.pi/self.bvector\n",
    "    \n",
    "        if P[1,0] == 0:\n",
    "            r_AB = P[0,0]/4\n",
    "        else:\n",
    "            r_AB = P[0,0]*np.sqrt(3)/6\n",
    "    \n",
    "        for l in range(pbcz):\n",
    "            for b in range(self.bvector):\n",
    "                grid = honeycombe_grids(P,dim=3,reverse=True,center=b%self.stack).T\n",
    "                X,Y,Z = translate(rotate(grid,-30),[0,-P[0,0]/2,0]).T\n",
    "    \n",
    "                Z = (-(np.abs(X)-r_AB)+1j*Y)*np.exp(1j*theta*b)\n",
    "                # Z = np.log((-(np.abs(X)-r_AB)+1j*Y)*np.exp(1j*theta*b)).imag\n",
    "                # Z = np.angle((-(np.abs(X)-r_AB)+1j*Y)*(np.cos(theta*b)+1j*np.sin(theta*b)))\n",
    "                Z = np.log(mobius_transfer(Z)).imag+2*np.pi*l\n",
    "    \n",
    "                x.append(X)\n",
    "                y.append(Y)\n",
    "                z.append(Z)\n",
    "            # z.append(np.angle((x+1j*y)*(np.cos(np.pi/4)+1j*np.sin(np.pi/4)))+2*np.pi*l)\n",
    "    \n",
    "        x = np.array(x).flatten()\n",
    "        y = np.array(y).flatten()\n",
    "        z = (np.array(z).flatten()/np.pi+1)/2*_d*self.bvector\n",
    "    \n",
    "        xyz = np.c_[x,y,z]\n",
    "        xyz = translate(rotate(translate(xyz,[0,P[0,0]/2,0]),30),[1e-12,1e-12,0])\n",
    "        xyz = np.delete(xyz@_inv(P),np.where((xyz@_inv(P)>1)|(xyz@_inv(P)<0)),axis=0)@P\n",
    "    \n",
    "        if self.nvaccum:\n",
    "            V1 = np.array([P[0,0]/2,P[0,0]/2/np.sqrt(3)])\n",
    "            V2 = np.array([0, P[0,0]/np.sqrt(3)])\n",
    "            d1 = np.sqrt((xyz[:,0]-V1[0])**2+(xyz[:,1]-V1[1])**2)\n",
    "            d2 = np.sqrt((xyz[:,0]-V2[0])**2+(xyz[:,1]-V2[1])**2)\n",
    "            xyz = xyz[(d1 > self.nvaccum*1.42+0.1) & (d2 > self.nvaccum*1.42+0.1)]\n",
    "            # xyz = xyz[d1 > vacuum*1.42+0.1]\n",
    "    \n",
    "        self.conf = f'{save_dir}/N{N}_bv{self.bvector}_s{self.stack}_v{self.nvaccum}'\n",
    "        data = DataFile(xyz,lattice='hex',P=P,f=self.conf)\n",
    "        if save:\n",
    "            data.write_xyz()\n",
    "            data.write_lmp(ntype=self.bvector,split=self.bvector)\n",
    "            data.write_poscar()\n",
    "        \n",
    "        return data.xyz"
   ]
  },
  {
   "cell_type": "code",
   "execution_count": 6,
   "id": "63980e98-0f6e-4ca9-864d-8d1617fbdc43",
   "metadata": {},
   "outputs": [],
   "source": [
    "from make_Hex import make_hex,f_theta\n",
    "class SingleSpiral:\n",
    "    def __init__(self,\n",
    "                 nlayers=1,\n",
    "                 bvector=1,\n",
    "                 nvacuum=0,\n",
    "                 twisted=0,\n",
    "                 shifted=False):\n",
    "\n",
    "        self.nlayers = nlayers\n",
    "        self.bvector = bvector\n",
    "        self.nvacuum = nvacuum\n",
    "        self.twisted = twisted\n",
    "        self.shifted = shifted\n",
    "        self.abs_bv = np.abs(self.bvector)\n",
    "\n",
    "    def riemann_sheet(self,flat):\n",
    "        x = flat[:,0]\n",
    "        y = flat[:,1]\n",
    "        z = np.zeros((self.nlayers, flat.shape[0]))\n",
    "\n",
    "        height = 3.35*self.abs_bv if self.shifted else 3.62*self.abs_bv\n",
    "\n",
    "        for k in range(self.nlayers):\n",
    "            z[k] = np.angle(np.sign(self.bvector)*x+1j*y)+2*np.pi*k\n",
    "\n",
    "        scale = height/(np.max(z[0])-np.min(z[0])) if self.nlayers==1 else height/(z[1,0]-z[0,0])\n",
    "\n",
    "        x = np.tile(x,self.nlayers)\n",
    "        y = np.tile(y,self.nlayers)\n",
    "        z = z.reshape(self.nlayers*flat.shape[0])*scale\n",
    "        return np.c_[x,y,z]\n",
    "\n",
    "    def spiral_graphene(self,m=10,edge='armchair'):\n",
    "        flat = make_hex(m,edge=edge)\n",
    "        angle = f_theta(m) if self.twisted else 0\n",
    "\n",
    "        print(f'twisted angle is: {angle:.2f}°, burgers vector is {self.bvector}, vacuum neighbor is {self.nvacuum}')\n",
    "\n",
    "        sprial_0 = self.riemann_sheet(flat)\n",
    "\n",
    "        sprial = []\n",
    "        for i in range(np.abs(self.bvector)):\n",
    "            sprial_i = rotate(sprial_0,360/self.abs_bv*i\n",
    "                              +(angle*(i%2))*int(self.twisted))\n",
    "            sprial.append(sprial_i)\n",
    "\n",
    "        sprial = np.array(sprial)\n",
    "        sprial = sprial.reshape(sprial.size//3,3)\n",
    "                      \n",
    "        d = np.sqrt((sprial[:,0]-0)**2+(sprial[:,1]-0)**2)\n",
    "        sprial = sprial[d > self.nvacuum*1.42+0.1]\n",
    "\n",
    "        return sprial\n"
   ]
  },
  {
   "cell_type": "code",
   "execution_count": 7,
   "id": "68246cab-748b-4999-bdb7-9fe970cebf72",
   "metadata": {},
   "outputs": [],
   "source": [
    "double = DoubleSpiral(bvector=2)\n",
    "double_data = double.double_screw(N=9,save=True)"
   ]
  },
  {
   "cell_type": "code",
   "execution_count": 8,
   "id": "f7758da6-5bce-4d3b-8bf5-846d112049df",
   "metadata": {},
   "outputs": [
    {
     "data": {
      "image/png": "[encoded data removed]",
      "text/plain": [
       "<Figure size 640x480 with 1 Axes>"
      ]
     },
     "metadata": {},
     "output_type": "display_data"
    }
   ],
   "source": [
    "view2d(double_data)"
   ]
  },
  {
   "cell_type": "code",
   "execution_count": 28,
   "id": "43fc096a-9bc4-48b4-a604-f599423c26fb",
   "metadata": {},
   "outputs": [
    {
     "name": "stdout",
     "output_type": "stream",
     "text": [
      "twisted angle is: 0.00°, burgers vector is 1, vacuum neighbor is 0\n"
     ]
    }
   ],
   "source": [
    "m=6\n",
    "single = SingleSpiral(bvector=1)\n",
    "single_data = single.spiral_graphene(m=m)"
   ]
  },
  {
   "cell_type": "code",
   "execution_count": 29,
   "id": "9910a741-17d0-4373-8e60-d180ba9b42ac",
   "metadata": {},
   "outputs": [
    {
     "data": {
      "image/png": "[encoded data removed]",
      "text/plain": [
       "<Figure size 640x480 with 1 Axes>"
      ]
     },
     "metadata": {},
     "output_type": "display_data"
    }
   ],
   "source": [
    "view2d(single_data)"
   ]
  },
  {
   "cell_type": "code",
   "execution_count": 30,
   "id": "65705f8d-158d-4fe9-8abd-b517f3062b6a",
   "metadata": {},
   "outputs": [],
   "source": [
    "data = DataFile(double_data,pbc=True)\n",
    "data.write_poscar(f'./N{m}_b{single.bvector}_t{single.twisted}_v{single.nvacuum}_armchair')"
   ]
  },
  {
   "cell_type": "code",
   "execution_count": null,
   "id": "6c222904-1430-4d0d-81f4-d94d96684f3d",
   "metadata": {},
   "outputs": [],
   "source": []
  }
 ],
 "metadata": {
  "kernelspec": {
   "display_name": "Python 3 (ipykernel)",
   "language": "python",
   "name": "python3"
  },
  "language_info": {
   "codemirror_mode": {
    "name": "ipython",
    "version": 3
   },
   "file_extension": ".py",
   "mimetype": "text/x-python",
   "name": "python",
   "nbconvert_exporter": "python",
   "pygments_lexer": "ipython3",
   "version": "3.10.4"
  }
 },
 "nbformat": 4,
 "nbformat_minor": 5
}
